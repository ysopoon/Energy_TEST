{
 "cells": [
  {
   "cell_type": "code",
   "execution_count": 1,
   "metadata": {},
   "outputs": [],
   "source": [
    "\n",
    "import os\n",
    "import pandas as pd\n",
    "import numpy as np\n",
    "import datetime\n",
    "import matplotlib.pyplot as plt\n",
    "import seaborn as sns\n",
    "import plotly.express as px\n",
    "\n",
    "filepath = './Data'\n",
    "df = pd.read_csv(\n",
    "    os.path.join(filepath, 'energy_2023_FR.csv')\n",
    ")"
   ]
  },
  {
   "cell_type": "code",
   "execution_count": 2,
   "metadata": {},
   "outputs": [
    {
     "data": {
      "text/html": [
       "<div>\n",
       "<style scoped>\n",
       "    .dataframe tbody tr th:only-of-type {\n",
       "        vertical-align: middle;\n",
       "    }\n",
       "\n",
       "    .dataframe tbody tr th {\n",
       "        vertical-align: top;\n",
       "    }\n",
       "\n",
       "    .dataframe thead th {\n",
       "        text-align: right;\n",
       "    }\n",
       "</style>\n",
       "<table border=\"1\" class=\"dataframe\">\n",
       "  <thead>\n",
       "    <tr style=\"text-align: right;\">\n",
       "      <th></th>\n",
       "      <th>Area</th>\n",
       "      <th>MTU</th>\n",
       "      <th>Biomass - Actual Aggregated [MW]</th>\n",
       "      <th>Energy storage - Actual Aggregated [MW]</th>\n",
       "      <th>Fossil Brown coal/Lignite - Actual Aggregated [MW]</th>\n",
       "      <th>Fossil Coal-derived gas - Actual Aggregated [MW]</th>\n",
       "      <th>Fossil Gas - Actual Aggregated [MW]</th>\n",
       "      <th>Fossil Hard coal - Actual Aggregated [MW]</th>\n",
       "      <th>Fossil Oil - Actual Aggregated [MW]</th>\n",
       "      <th>Fossil Oil shale - Actual Aggregated [MW]</th>\n",
       "      <th>...</th>\n",
       "      <th>Hydro Run-of-river and poundage - Actual Aggregated [MW]</th>\n",
       "      <th>Hydro Water Reservoir - Actual Aggregated [MW]</th>\n",
       "      <th>Marine - Actual Aggregated [MW]</th>\n",
       "      <th>Nuclear - Actual Aggregated [MW]</th>\n",
       "      <th>Other - Actual Aggregated [MW]</th>\n",
       "      <th>Other renewable - Actual Aggregated [MW]</th>\n",
       "      <th>Solar - Actual Aggregated [MW]</th>\n",
       "      <th>Waste - Actual Aggregated [MW]</th>\n",
       "      <th>Wind Offshore - Actual Aggregated [MW]</th>\n",
       "      <th>Wind Onshore - Actual Aggregated [MW]</th>\n",
       "    </tr>\n",
       "  </thead>\n",
       "  <tbody>\n",
       "    <tr>\n",
       "      <th>0</th>\n",
       "      <td>France (FR)</td>\n",
       "      <td>01.01.2023 00:00 - 01.01.2023 01:00 (UTC)</td>\n",
       "      <td>424.0</td>\n",
       "      <td>n/e</td>\n",
       "      <td>n/e</td>\n",
       "      <td>n/e</td>\n",
       "      <td>2253.0</td>\n",
       "      <td>44.0</td>\n",
       "      <td>203.0</td>\n",
       "      <td>n/e</td>\n",
       "      <td>...</td>\n",
       "      <td>4849.0</td>\n",
       "      <td>607.0</td>\n",
       "      <td>n/e</td>\n",
       "      <td>25620.0</td>\n",
       "      <td>n/e</td>\n",
       "      <td>n/e</td>\n",
       "      <td>0.0</td>\n",
       "      <td>135.0</td>\n",
       "      <td>n/e</td>\n",
       "      <td>11777.0</td>\n",
       "    </tr>\n",
       "    <tr>\n",
       "      <th>1</th>\n",
       "      <td>France (FR)</td>\n",
       "      <td>01.01.2023 01:00 - 01.01.2023 02:00 (UTC)</td>\n",
       "      <td>426.0</td>\n",
       "      <td>n/e</td>\n",
       "      <td>n/e</td>\n",
       "      <td>n/e</td>\n",
       "      <td>2243.0</td>\n",
       "      <td>44.0</td>\n",
       "      <td>203.0</td>\n",
       "      <td>n/e</td>\n",
       "      <td>...</td>\n",
       "      <td>4853.0</td>\n",
       "      <td>37.0</td>\n",
       "      <td>n/e</td>\n",
       "      <td>25066.0</td>\n",
       "      <td>n/e</td>\n",
       "      <td>n/e</td>\n",
       "      <td>0.0</td>\n",
       "      <td>136.0</td>\n",
       "      <td>n/e</td>\n",
       "      <td>11437.0</td>\n",
       "    </tr>\n",
       "    <tr>\n",
       "      <th>2</th>\n",
       "      <td>France (FR)</td>\n",
       "      <td>01.01.2023 02:00 - 01.01.2023 03:00 (UTC)</td>\n",
       "      <td>424.0</td>\n",
       "      <td>n/e</td>\n",
       "      <td>n/e</td>\n",
       "      <td>n/e</td>\n",
       "      <td>2306.0</td>\n",
       "      <td>45.0</td>\n",
       "      <td>203.0</td>\n",
       "      <td>n/e</td>\n",
       "      <td>...</td>\n",
       "      <td>4715.0</td>\n",
       "      <td>NaN</td>\n",
       "      <td>n/e</td>\n",
       "      <td>24502.0</td>\n",
       "      <td>n/e</td>\n",
       "      <td>n/e</td>\n",
       "      <td>0.0</td>\n",
       "      <td>136.0</td>\n",
       "      <td>n/e</td>\n",
       "      <td>11087.0</td>\n",
       "    </tr>\n",
       "    <tr>\n",
       "      <th>3</th>\n",
       "      <td>France (FR)</td>\n",
       "      <td>01.01.2023 03:00 - 01.01.2023 04:00 (UTC)</td>\n",
       "      <td>424.0</td>\n",
       "      <td>n/e</td>\n",
       "      <td>n/e</td>\n",
       "      <td>n/e</td>\n",
       "      <td>2254.0</td>\n",
       "      <td>45.0</td>\n",
       "      <td>202.0</td>\n",
       "      <td>n/e</td>\n",
       "      <td>...</td>\n",
       "      <td>4571.0</td>\n",
       "      <td>NaN</td>\n",
       "      <td>n/e</td>\n",
       "      <td>24423.0</td>\n",
       "      <td>n/e</td>\n",
       "      <td>n/e</td>\n",
       "      <td>0.0</td>\n",
       "      <td>136.0</td>\n",
       "      <td>n/e</td>\n",
       "      <td>10718.0</td>\n",
       "    </tr>\n",
       "    <tr>\n",
       "      <th>4</th>\n",
       "      <td>France (FR)</td>\n",
       "      <td>01.01.2023 04:00 - 01.01.2023 05:00 (UTC)</td>\n",
       "      <td>419.0</td>\n",
       "      <td>n/e</td>\n",
       "      <td>n/e</td>\n",
       "      <td>n/e</td>\n",
       "      <td>2251.0</td>\n",
       "      <td>45.0</td>\n",
       "      <td>203.0</td>\n",
       "      <td>n/e</td>\n",
       "      <td>...</td>\n",
       "      <td>4524.0</td>\n",
       "      <td>NaN</td>\n",
       "      <td>n/e</td>\n",
       "      <td>24536.0</td>\n",
       "      <td>n/e</td>\n",
       "      <td>n/e</td>\n",
       "      <td>0.0</td>\n",
       "      <td>138.0</td>\n",
       "      <td>n/e</td>\n",
       "      <td>10130.0</td>\n",
       "    </tr>\n",
       "  </tbody>\n",
       "</table>\n",
       "<p>5 rows × 24 columns</p>\n",
       "</div>"
      ],
      "text/plain": [
       "          Area                                        MTU  \\\n",
       "0  France (FR)  01.01.2023 00:00 - 01.01.2023 01:00 (UTC)   \n",
       "1  France (FR)  01.01.2023 01:00 - 01.01.2023 02:00 (UTC)   \n",
       "2  France (FR)  01.01.2023 02:00 - 01.01.2023 03:00 (UTC)   \n",
       "3  France (FR)  01.01.2023 03:00 - 01.01.2023 04:00 (UTC)   \n",
       "4  France (FR)  01.01.2023 04:00 - 01.01.2023 05:00 (UTC)   \n",
       "\n",
       "   Biomass - Actual Aggregated [MW] Energy storage - Actual Aggregated [MW]  \\\n",
       "0                             424.0                                     n/e   \n",
       "1                             426.0                                     n/e   \n",
       "2                             424.0                                     n/e   \n",
       "3                             424.0                                     n/e   \n",
       "4                             419.0                                     n/e   \n",
       "\n",
       "  Fossil Brown coal/Lignite - Actual Aggregated [MW]  \\\n",
       "0                                                n/e   \n",
       "1                                                n/e   \n",
       "2                                                n/e   \n",
       "3                                                n/e   \n",
       "4                                                n/e   \n",
       "\n",
       "  Fossil Coal-derived gas - Actual Aggregated [MW]  \\\n",
       "0                                              n/e   \n",
       "1                                              n/e   \n",
       "2                                              n/e   \n",
       "3                                              n/e   \n",
       "4                                              n/e   \n",
       "\n",
       "   Fossil Gas - Actual Aggregated [MW]  \\\n",
       "0                               2253.0   \n",
       "1                               2243.0   \n",
       "2                               2306.0   \n",
       "3                               2254.0   \n",
       "4                               2251.0   \n",
       "\n",
       "   Fossil Hard coal - Actual Aggregated [MW]  \\\n",
       "0                                       44.0   \n",
       "1                                       44.0   \n",
       "2                                       45.0   \n",
       "3                                       45.0   \n",
       "4                                       45.0   \n",
       "\n",
       "   Fossil Oil - Actual Aggregated [MW]  \\\n",
       "0                                203.0   \n",
       "1                                203.0   \n",
       "2                                203.0   \n",
       "3                                202.0   \n",
       "4                                203.0   \n",
       "\n",
       "  Fossil Oil shale - Actual Aggregated [MW]  ...  \\\n",
       "0                                       n/e  ...   \n",
       "1                                       n/e  ...   \n",
       "2                                       n/e  ...   \n",
       "3                                       n/e  ...   \n",
       "4                                       n/e  ...   \n",
       "\n",
       "  Hydro Run-of-river and poundage - Actual Aggregated [MW]  \\\n",
       "0                                             4849.0         \n",
       "1                                             4853.0         \n",
       "2                                             4715.0         \n",
       "3                                             4571.0         \n",
       "4                                             4524.0         \n",
       "\n",
       "  Hydro Water Reservoir - Actual Aggregated [MW]  \\\n",
       "0                                          607.0   \n",
       "1                                           37.0   \n",
       "2                                            NaN   \n",
       "3                                            NaN   \n",
       "4                                            NaN   \n",
       "\n",
       "   Marine - Actual Aggregated [MW]  Nuclear - Actual Aggregated [MW]  \\\n",
       "0                              n/e                           25620.0   \n",
       "1                              n/e                           25066.0   \n",
       "2                              n/e                           24502.0   \n",
       "3                              n/e                           24423.0   \n",
       "4                              n/e                           24536.0   \n",
       "\n",
       "   Other - Actual Aggregated [MW]  Other renewable - Actual Aggregated [MW]  \\\n",
       "0                             n/e                                       n/e   \n",
       "1                             n/e                                       n/e   \n",
       "2                             n/e                                       n/e   \n",
       "3                             n/e                                       n/e   \n",
       "4                             n/e                                       n/e   \n",
       "\n",
       "  Solar - Actual Aggregated [MW]  Waste - Actual Aggregated [MW]  \\\n",
       "0                            0.0                           135.0   \n",
       "1                            0.0                           136.0   \n",
       "2                            0.0                           136.0   \n",
       "3                            0.0                           136.0   \n",
       "4                            0.0                           138.0   \n",
       "\n",
       "  Wind Offshore - Actual Aggregated [MW] Wind Onshore - Actual Aggregated [MW]  \n",
       "0                                    n/e                               11777.0  \n",
       "1                                    n/e                               11437.0  \n",
       "2                                    n/e                               11087.0  \n",
       "3                                    n/e                               10718.0  \n",
       "4                                    n/e                               10130.0  \n",
       "\n",
       "[5 rows x 24 columns]"
      ]
     },
     "execution_count": 2,
     "metadata": {},
     "output_type": "execute_result"
    }
   ],
   "source": [
    "df.head()"
   ]
  },
  {
   "cell_type": "code",
   "execution_count": 3,
   "metadata": {},
   "outputs": [
    {
     "name": "stderr",
     "output_type": "stream",
     "text": [
      "/var/folders/qv/t2vwkpks13lc6qj9vrjf5qf80000gn/T/ipykernel_53440/3228066213.py:1: FutureWarning: Downcasting behavior in `replace` is deprecated and will be removed in a future version. To retain the old behavior, explicitly call `result.infer_objects(copy=False)`. To opt-in to the future behavior, set `pd.set_option('future.no_silent_downcasting', True)`\n",
      "  df = df.replace('n/e', np.nan)\n"
     ]
    },
    {
     "data": {
      "text/plain": [
       "Area                                                         object\n",
       "MTU                                                          object\n",
       "Biomass - Actual Aggregated [MW]                            float64\n",
       "Energy storage - Actual Aggregated [MW]                     float64\n",
       "Fossil Brown coal/Lignite - Actual Aggregated [MW]          float64\n",
       "Fossil Coal-derived gas - Actual Aggregated [MW]            float64\n",
       "Fossil Gas - Actual Aggregated [MW]                         float64\n",
       "Fossil Hard coal - Actual Aggregated [MW]                   float64\n",
       "Fossil Oil - Actual Aggregated [MW]                         float64\n",
       "Fossil Oil shale - Actual Aggregated [MW]                   float64\n",
       "Fossil Peat - Actual Aggregated [MW]                        float64\n",
       "Geothermal - Actual Aggregated [MW]                         float64\n",
       "Hydro Pumped Storage - Actual Aggregated [MW]               float64\n",
       "Hydro Pumped Storage - Actual Consumption [MW]              float64\n",
       "Hydro Run-of-river and poundage - Actual Aggregated [MW]    float64\n",
       "Hydro Water Reservoir - Actual Aggregated [MW]              float64\n",
       "Marine - Actual Aggregated [MW]                             float64\n",
       "Nuclear - Actual Aggregated [MW]                            float64\n",
       "Other - Actual Aggregated [MW]                              float64\n",
       "Other renewable - Actual Aggregated [MW]                    float64\n",
       "Solar - Actual Aggregated [MW]                              float64\n",
       "Waste - Actual Aggregated [MW]                              float64\n",
       "Wind Offshore - Actual Aggregated [MW]                      float64\n",
       "Wind Onshore - Actual Aggregated [MW]                       float64\n",
       "dtype: object"
      ]
     },
     "execution_count": 3,
     "metadata": {},
     "output_type": "execute_result"
    }
   ],
   "source": [
    "df = df.replace('n/e', np.nan)\n",
    "df[[x for x in df.columns if \"MW\" in x ]] = df[[x for x in df.columns if \"MW\" in x ]].apply(lambda x: x.astype(float), axis=1)\n",
    "df.dtypes"
   ]
  },
  {
   "cell_type": "code",
   "execution_count": 4,
   "metadata": {},
   "outputs": [
    {
     "data": {
      "text/html": [
       "<div>\n",
       "<style scoped>\n",
       "    .dataframe tbody tr th:only-of-type {\n",
       "        vertical-align: middle;\n",
       "    }\n",
       "\n",
       "    .dataframe tbody tr th {\n",
       "        vertical-align: top;\n",
       "    }\n",
       "\n",
       "    .dataframe thead th {\n",
       "        text-align: right;\n",
       "    }\n",
       "</style>\n",
       "<table border=\"1\" class=\"dataframe\">\n",
       "  <thead>\n",
       "    <tr style=\"text-align: right;\">\n",
       "      <th></th>\n",
       "      <th>MTU</th>\n",
       "      <th>start_time</th>\n",
       "      <th>time</th>\n",
       "    </tr>\n",
       "  </thead>\n",
       "  <tbody>\n",
       "    <tr>\n",
       "      <th>0</th>\n",
       "      <td>01.01.2023 00:00 - 01.01.2023 01:00 (UTC)</td>\n",
       "      <td>01.01.2023 00:00</td>\n",
       "      <td>2023-01-01 01:00:00+00:00</td>\n",
       "    </tr>\n",
       "    <tr>\n",
       "      <th>1</th>\n",
       "      <td>01.01.2023 01:00 - 01.01.2023 02:00 (UTC)</td>\n",
       "      <td>01.01.2023 01:00</td>\n",
       "      <td>2023-01-01 02:00:00+00:00</td>\n",
       "    </tr>\n",
       "    <tr>\n",
       "      <th>2</th>\n",
       "      <td>01.01.2023 02:00 - 01.01.2023 03:00 (UTC)</td>\n",
       "      <td>01.01.2023 02:00</td>\n",
       "      <td>2023-01-01 03:00:00+00:00</td>\n",
       "    </tr>\n",
       "    <tr>\n",
       "      <th>3</th>\n",
       "      <td>01.01.2023 03:00 - 01.01.2023 04:00 (UTC)</td>\n",
       "      <td>01.01.2023 03:00</td>\n",
       "      <td>2023-01-01 04:00:00+00:00</td>\n",
       "    </tr>\n",
       "    <tr>\n",
       "      <th>4</th>\n",
       "      <td>01.01.2023 04:00 - 01.01.2023 05:00 (UTC)</td>\n",
       "      <td>01.01.2023 04:00</td>\n",
       "      <td>2023-01-01 05:00:00+00:00</td>\n",
       "    </tr>\n",
       "  </tbody>\n",
       "</table>\n",
       "</div>"
      ],
      "text/plain": [
       "                                         MTU        start_time  \\\n",
       "0  01.01.2023 00:00 - 01.01.2023 01:00 (UTC)  01.01.2023 00:00   \n",
       "1  01.01.2023 01:00 - 01.01.2023 02:00 (UTC)  01.01.2023 01:00   \n",
       "2  01.01.2023 02:00 - 01.01.2023 03:00 (UTC)  01.01.2023 02:00   \n",
       "3  01.01.2023 03:00 - 01.01.2023 04:00 (UTC)  01.01.2023 03:00   \n",
       "4  01.01.2023 04:00 - 01.01.2023 05:00 (UTC)  01.01.2023 04:00   \n",
       "\n",
       "                       time  \n",
       "0 2023-01-01 01:00:00+00:00  \n",
       "1 2023-01-01 02:00:00+00:00  \n",
       "2 2023-01-01 03:00:00+00:00  \n",
       "3 2023-01-01 04:00:00+00:00  \n",
       "4 2023-01-01 05:00:00+00:00  "
      ]
     },
     "execution_count": 4,
     "metadata": {},
     "output_type": "execute_result"
    }
   ],
   "source": [
    "df[['start_time', 'time']] = df['MTU'].str.split(' - ', expand=True)\n",
    "df['time'] = df['time'].apply(lambda x: x.replace(' (UTC)','')).apply(lambda x: datetime.datetime.strptime(x, \"%d.%m.%Y %H:%M\"))\n",
    "df['time'] = pd.to_datetime(df['time'], utc=True) \n",
    "df[['MTU','start_time', 'time']].head()\n",
    "#df[['MTU','start_time', 'time']].dtypes"
   ]
  },
  {
   "cell_type": "code",
   "execution_count": 5,
   "metadata": {},
   "outputs": [
    {
     "data": {
      "text/plain": [
       "Index(['Area', 'MTU', 'Biomass', 'Energy storage', 'Fossil Brown coal/Lignite',\n",
       "       'Fossil Coal-derived gas', 'Fossil Gas', 'Fossil Hard coal',\n",
       "       'Fossil Oil', 'Fossil Oil shale', 'Fossil Peat', 'Geothermal',\n",
       "       'Hydro Pumped Storage',\n",
       "       'Hydro Pumped Storage - Actual Consumption [MW]',\n",
       "       'Hydro Run-of-river and poundage', 'Hydro Water Reservoir', 'Marine',\n",
       "       'Nuclear', 'Other', 'Other renewable', 'Solar', 'Waste',\n",
       "       'Wind Offshore', 'Wind Onshore', 'start_time', 'time'],\n",
       "      dtype='object')"
      ]
     },
     "execution_count": 5,
     "metadata": {},
     "output_type": "execute_result"
    }
   ],
   "source": [
    "# Remove the string \"_Name\" from column names\n",
    "df.rename(columns=lambda x: x.replace(' - Actual Aggregated [MW]', ''), inplace=True)\n",
    "\n",
    "df.columns"
   ]
  },
  {
   "cell_type": "code",
   "execution_count": 6,
   "metadata": {},
   "outputs": [
    {
     "data": {
      "text/plain": [
       "Area                                                 0\n",
       "MTU                                                  0\n",
       "Biomass                                              6\n",
       "Energy storage                                    8760\n",
       "Fossil Brown coal/Lignite                         8760\n",
       "Fossil Coal-derived gas                           8760\n",
       "Fossil Gas                                           6\n",
       "Fossil Hard coal                                     6\n",
       "Fossil Oil                                           6\n",
       "Fossil Oil shale                                  8760\n",
       "Fossil Peat                                       8760\n",
       "Geothermal                                        8760\n",
       "Hydro Pumped Storage                              3970\n",
       "Hydro Pumped Storage - Actual Consumption [MW]    4796\n",
       "Hydro Run-of-river and poundage                      6\n",
       "Hydro Water Reservoir                               60\n",
       "Marine                                            8760\n",
       "Nuclear                                              6\n",
       "Other                                             8760\n",
       "Other renewable                                   8760\n",
       "Solar                                                6\n",
       "Waste                                                6\n",
       "Wind Offshore                                     4041\n",
       "Wind Onshore                                         6\n",
       "start_time                                           0\n",
       "time                                                 0\n",
       "dtype: int64"
      ]
     },
     "execution_count": 6,
     "metadata": {},
     "output_type": "execute_result"
    }
   ],
   "source": [
    "df.isna().sum()"
   ]
  },
  {
   "cell_type": "code",
   "execution_count": 7,
   "metadata": {},
   "outputs": [
    {
     "name": "stderr",
     "output_type": "stream",
     "text": [
      "/var/folders/qv/t2vwkpks13lc6qj9vrjf5qf80000gn/T/ipykernel_53440/3498884307.py:1: FutureWarning: DataFrame.interpolate with object dtype is deprecated and will raise in a future version. Call obj.infer_objects(copy=False) before interpolating instead.\n",
      "  df.interpolate(method='linear', limit_direction='forward', inplace=True, axis=0)\n"
     ]
    },
    {
     "data": {
      "text/html": [
       "<div>\n",
       "<style scoped>\n",
       "    .dataframe tbody tr th:only-of-type {\n",
       "        vertical-align: middle;\n",
       "    }\n",
       "\n",
       "    .dataframe tbody tr th {\n",
       "        vertical-align: top;\n",
       "    }\n",
       "\n",
       "    .dataframe thead th {\n",
       "        text-align: right;\n",
       "    }\n",
       "</style>\n",
       "<table border=\"1\" class=\"dataframe\">\n",
       "  <thead>\n",
       "    <tr style=\"text-align: right;\">\n",
       "      <th></th>\n",
       "      <th>Biomass</th>\n",
       "      <th>Energy storage</th>\n",
       "      <th>Fossil Brown coal/Lignite</th>\n",
       "      <th>Fossil Coal-derived gas</th>\n",
       "      <th>Fossil Gas</th>\n",
       "      <th>Fossil Hard coal</th>\n",
       "      <th>Fossil Oil</th>\n",
       "      <th>Fossil Oil shale</th>\n",
       "      <th>Fossil Peat</th>\n",
       "      <th>Geothermal</th>\n",
       "      <th>...</th>\n",
       "      <th>Hydro Water Reservoir</th>\n",
       "      <th>Marine</th>\n",
       "      <th>Nuclear</th>\n",
       "      <th>Other</th>\n",
       "      <th>Other renewable</th>\n",
       "      <th>Solar</th>\n",
       "      <th>Waste</th>\n",
       "      <th>Wind Offshore</th>\n",
       "      <th>Wind Onshore</th>\n",
       "      <th>time</th>\n",
       "    </tr>\n",
       "  </thead>\n",
       "  <tbody>\n",
       "    <tr>\n",
       "      <th>0</th>\n",
       "      <td>424.0</td>\n",
       "      <td>NaN</td>\n",
       "      <td>NaN</td>\n",
       "      <td>NaN</td>\n",
       "      <td>2253.0</td>\n",
       "      <td>44.0</td>\n",
       "      <td>203.0</td>\n",
       "      <td>NaN</td>\n",
       "      <td>NaN</td>\n",
       "      <td>NaN</td>\n",
       "      <td>...</td>\n",
       "      <td>607.000</td>\n",
       "      <td>NaN</td>\n",
       "      <td>25620.0</td>\n",
       "      <td>NaN</td>\n",
       "      <td>NaN</td>\n",
       "      <td>0.0</td>\n",
       "      <td>135.0</td>\n",
       "      <td>NaN</td>\n",
       "      <td>11777.0</td>\n",
       "      <td>2023-01-01 01:00:00+00:00</td>\n",
       "    </tr>\n",
       "    <tr>\n",
       "      <th>1</th>\n",
       "      <td>426.0</td>\n",
       "      <td>NaN</td>\n",
       "      <td>NaN</td>\n",
       "      <td>NaN</td>\n",
       "      <td>2243.0</td>\n",
       "      <td>44.0</td>\n",
       "      <td>203.0</td>\n",
       "      <td>NaN</td>\n",
       "      <td>NaN</td>\n",
       "      <td>NaN</td>\n",
       "      <td>...</td>\n",
       "      <td>37.000</td>\n",
       "      <td>NaN</td>\n",
       "      <td>25066.0</td>\n",
       "      <td>NaN</td>\n",
       "      <td>NaN</td>\n",
       "      <td>0.0</td>\n",
       "      <td>136.0</td>\n",
       "      <td>NaN</td>\n",
       "      <td>11437.0</td>\n",
       "      <td>2023-01-01 02:00:00+00:00</td>\n",
       "    </tr>\n",
       "    <tr>\n",
       "      <th>2</th>\n",
       "      <td>424.0</td>\n",
       "      <td>NaN</td>\n",
       "      <td>NaN</td>\n",
       "      <td>NaN</td>\n",
       "      <td>2306.0</td>\n",
       "      <td>45.0</td>\n",
       "      <td>203.0</td>\n",
       "      <td>NaN</td>\n",
       "      <td>NaN</td>\n",
       "      <td>NaN</td>\n",
       "      <td>...</td>\n",
       "      <td>37.125</td>\n",
       "      <td>NaN</td>\n",
       "      <td>24502.0</td>\n",
       "      <td>NaN</td>\n",
       "      <td>NaN</td>\n",
       "      <td>0.0</td>\n",
       "      <td>136.0</td>\n",
       "      <td>NaN</td>\n",
       "      <td>11087.0</td>\n",
       "      <td>2023-01-01 03:00:00+00:00</td>\n",
       "    </tr>\n",
       "    <tr>\n",
       "      <th>3</th>\n",
       "      <td>424.0</td>\n",
       "      <td>NaN</td>\n",
       "      <td>NaN</td>\n",
       "      <td>NaN</td>\n",
       "      <td>2254.0</td>\n",
       "      <td>45.0</td>\n",
       "      <td>202.0</td>\n",
       "      <td>NaN</td>\n",
       "      <td>NaN</td>\n",
       "      <td>NaN</td>\n",
       "      <td>...</td>\n",
       "      <td>37.250</td>\n",
       "      <td>NaN</td>\n",
       "      <td>24423.0</td>\n",
       "      <td>NaN</td>\n",
       "      <td>NaN</td>\n",
       "      <td>0.0</td>\n",
       "      <td>136.0</td>\n",
       "      <td>NaN</td>\n",
       "      <td>10718.0</td>\n",
       "      <td>2023-01-01 04:00:00+00:00</td>\n",
       "    </tr>\n",
       "    <tr>\n",
       "      <th>4</th>\n",
       "      <td>419.0</td>\n",
       "      <td>NaN</td>\n",
       "      <td>NaN</td>\n",
       "      <td>NaN</td>\n",
       "      <td>2251.0</td>\n",
       "      <td>45.0</td>\n",
       "      <td>203.0</td>\n",
       "      <td>NaN</td>\n",
       "      <td>NaN</td>\n",
       "      <td>NaN</td>\n",
       "      <td>...</td>\n",
       "      <td>37.375</td>\n",
       "      <td>NaN</td>\n",
       "      <td>24536.0</td>\n",
       "      <td>NaN</td>\n",
       "      <td>NaN</td>\n",
       "      <td>0.0</td>\n",
       "      <td>138.0</td>\n",
       "      <td>NaN</td>\n",
       "      <td>10130.0</td>\n",
       "      <td>2023-01-01 05:00:00+00:00</td>\n",
       "    </tr>\n",
       "  </tbody>\n",
       "</table>\n",
       "<p>5 rows × 23 columns</p>\n",
       "</div>"
      ],
      "text/plain": [
       "   Biomass  Energy storage  Fossil Brown coal/Lignite  \\\n",
       "0    424.0             NaN                        NaN   \n",
       "1    426.0             NaN                        NaN   \n",
       "2    424.0             NaN                        NaN   \n",
       "3    424.0             NaN                        NaN   \n",
       "4    419.0             NaN                        NaN   \n",
       "\n",
       "   Fossil Coal-derived gas  Fossil Gas  Fossil Hard coal  Fossil Oil  \\\n",
       "0                      NaN      2253.0              44.0       203.0   \n",
       "1                      NaN      2243.0              44.0       203.0   \n",
       "2                      NaN      2306.0              45.0       203.0   \n",
       "3                      NaN      2254.0              45.0       202.0   \n",
       "4                      NaN      2251.0              45.0       203.0   \n",
       "\n",
       "   Fossil Oil shale  Fossil Peat  Geothermal  ...  Hydro Water Reservoir  \\\n",
       "0               NaN          NaN         NaN  ...                607.000   \n",
       "1               NaN          NaN         NaN  ...                 37.000   \n",
       "2               NaN          NaN         NaN  ...                 37.125   \n",
       "3               NaN          NaN         NaN  ...                 37.250   \n",
       "4               NaN          NaN         NaN  ...                 37.375   \n",
       "\n",
       "   Marine  Nuclear  Other  Other renewable  Solar  Waste  Wind Offshore  \\\n",
       "0     NaN  25620.0    NaN              NaN    0.0  135.0            NaN   \n",
       "1     NaN  25066.0    NaN              NaN    0.0  136.0            NaN   \n",
       "2     NaN  24502.0    NaN              NaN    0.0  136.0            NaN   \n",
       "3     NaN  24423.0    NaN              NaN    0.0  136.0            NaN   \n",
       "4     NaN  24536.0    NaN              NaN    0.0  138.0            NaN   \n",
       "\n",
       "   Wind Onshore                      time  \n",
       "0       11777.0 2023-01-01 01:00:00+00:00  \n",
       "1       11437.0 2023-01-01 02:00:00+00:00  \n",
       "2       11087.0 2023-01-01 03:00:00+00:00  \n",
       "3       10718.0 2023-01-01 04:00:00+00:00  \n",
       "4       10130.0 2023-01-01 05:00:00+00:00  \n",
       "\n",
       "[5 rows x 23 columns]"
      ]
     },
     "execution_count": 7,
     "metadata": {},
     "output_type": "execute_result"
    }
   ],
   "source": [
    "\n",
    "df.interpolate(method='linear', limit_direction='forward', inplace=True, axis=0)\n",
    "df[[x for x in df.columns if x not in ['Area','MTU','start_time']]].head()"
   ]
  },
  {
   "cell_type": "code",
   "execution_count": 18,
   "metadata": {},
   "outputs": [],
   "source": [
    "def read_entsoe_df(country):\n",
    "    table = pd.DataFrame()\n",
    "    for i in [2022, 2023]:\n",
    "        df = pd.read_csv(os.path.join('./Data', f'energy_{i}_{country}.csv'))\n",
    "\n",
    "        df = df.replace('n/e', np.nan)\n",
    "        df[[x for x in df.columns if \"MW\" in x ]] = \\\n",
    "            df[[x for x in df.columns if \"MW\" in x ]] \\\n",
    "                .apply(lambda x: x.astype(float), axis=1) \\\n",
    "        #         .interpolate(method='linear', limit_direction='forward', inplace=True, axis=0)\n",
    "        df.rename(columns=lambda x: x.replace(' - Actual Aggregated [MW]', ' [MW]'), inplace=True)\n",
    "\n",
    "        df[['start_time', 'time']] = df['MTU'].str.split(' - ', expand=True)\n",
    "        df['time'] = df['time'].apply(lambda x: x.replace(' (UTC)','')) \\\n",
    "                                .apply(lambda x: datetime.datetime.strptime(x, \"%d.%m.%Y %H:%M\"))\n",
    "        df['time'] = pd.to_datetime(df['time'], utc=True)\n",
    "        df['date'] = df['time'].dt.date\n",
    "        df = df[[x for x in df.columns if x not in ['MTU','start_time']]]\n",
    "        if table.empty:\n",
    "            table = df  \n",
    "        else: table = pd.concat([table,df])\n",
    "    return table"
   ]
  },
  {
   "cell_type": "code",
   "execution_count": 19,
   "metadata": {},
   "outputs": [
    {
     "name": "stderr",
     "output_type": "stream",
     "text": [
      "/var/folders/qv/t2vwkpks13lc6qj9vrjf5qf80000gn/T/ipykernel_53440/2353167746.py:6: FutureWarning:\n",
      "\n",
      "Downcasting behavior in `replace` is deprecated and will be removed in a future version. To retain the old behavior, explicitly call `result.infer_objects(copy=False)`. To opt-in to the future behavior, set `pd.set_option('future.no_silent_downcasting', True)`\n",
      "\n",
      "/var/folders/qv/t2vwkpks13lc6qj9vrjf5qf80000gn/T/ipykernel_53440/2353167746.py:6: FutureWarning:\n",
      "\n",
      "Downcasting behavior in `replace` is deprecated and will be removed in a future version. To retain the old behavior, explicitly call `result.infer_objects(copy=False)`. To opt-in to the future behavior, set `pd.set_option('future.no_silent_downcasting', True)`\n",
      "\n"
     ]
    },
    {
     "data": {
      "text/html": [
       "<div>\n",
       "<style scoped>\n",
       "    .dataframe tbody tr th:only-of-type {\n",
       "        vertical-align: middle;\n",
       "    }\n",
       "\n",
       "    .dataframe tbody tr th {\n",
       "        vertical-align: top;\n",
       "    }\n",
       "\n",
       "    .dataframe thead th {\n",
       "        text-align: right;\n",
       "    }\n",
       "</style>\n",
       "<table border=\"1\" class=\"dataframe\">\n",
       "  <thead>\n",
       "    <tr style=\"text-align: right;\">\n",
       "      <th></th>\n",
       "      <th>Area</th>\n",
       "      <th>Biomass [MW]</th>\n",
       "      <th>Energy storage [MW]</th>\n",
       "      <th>Fossil Brown coal/Lignite [MW]</th>\n",
       "      <th>Fossil Coal-derived gas [MW]</th>\n",
       "      <th>Fossil Gas [MW]</th>\n",
       "      <th>Fossil Hard coal [MW]</th>\n",
       "      <th>Fossil Oil [MW]</th>\n",
       "      <th>Fossil Oil shale [MW]</th>\n",
       "      <th>Fossil Peat [MW]</th>\n",
       "      <th>...</th>\n",
       "      <th>Marine [MW]</th>\n",
       "      <th>Nuclear [MW]</th>\n",
       "      <th>Other [MW]</th>\n",
       "      <th>Other renewable [MW]</th>\n",
       "      <th>Solar [MW]</th>\n",
       "      <th>Waste [MW]</th>\n",
       "      <th>Wind Offshore [MW]</th>\n",
       "      <th>Wind Onshore [MW]</th>\n",
       "      <th>time</th>\n",
       "      <th>date</th>\n",
       "    </tr>\n",
       "  </thead>\n",
       "  <tbody>\n",
       "    <tr>\n",
       "      <th>0</th>\n",
       "      <td>Spain (ES)</td>\n",
       "      <td>533.0</td>\n",
       "      <td>NaN</td>\n",
       "      <td>0.0</td>\n",
       "      <td>0.0</td>\n",
       "      <td>3874.0</td>\n",
       "      <td>847.0</td>\n",
       "      <td>121.0</td>\n",
       "      <td>0.0</td>\n",
       "      <td>0.0</td>\n",
       "      <td>...</td>\n",
       "      <td>0.0</td>\n",
       "      <td>6091.0</td>\n",
       "      <td>50.0</td>\n",
       "      <td>98.0</td>\n",
       "      <td>75.0</td>\n",
       "      <td>268.0</td>\n",
       "      <td>0.0</td>\n",
       "      <td>6398.0</td>\n",
       "      <td>2022-01-01 01:00:00+00:00</td>\n",
       "      <td>2022-01-01</td>\n",
       "    </tr>\n",
       "    <tr>\n",
       "      <th>1</th>\n",
       "      <td>Spain (ES)</td>\n",
       "      <td>524.0</td>\n",
       "      <td>NaN</td>\n",
       "      <td>0.0</td>\n",
       "      <td>0.0</td>\n",
       "      <td>3557.0</td>\n",
       "      <td>842.0</td>\n",
       "      <td>112.0</td>\n",
       "      <td>0.0</td>\n",
       "      <td>0.0</td>\n",
       "      <td>...</td>\n",
       "      <td>0.0</td>\n",
       "      <td>6092.0</td>\n",
       "      <td>50.0</td>\n",
       "      <td>96.0</td>\n",
       "      <td>75.0</td>\n",
       "      <td>265.0</td>\n",
       "      <td>0.0</td>\n",
       "      <td>6456.0</td>\n",
       "      <td>2022-01-01 02:00:00+00:00</td>\n",
       "      <td>2022-01-01</td>\n",
       "    </tr>\n",
       "    <tr>\n",
       "      <th>2</th>\n",
       "      <td>Spain (ES)</td>\n",
       "      <td>532.0</td>\n",
       "      <td>NaN</td>\n",
       "      <td>0.0</td>\n",
       "      <td>0.0</td>\n",
       "      <td>3590.0</td>\n",
       "      <td>855.0</td>\n",
       "      <td>105.0</td>\n",
       "      <td>0.0</td>\n",
       "      <td>0.0</td>\n",
       "      <td>...</td>\n",
       "      <td>0.0</td>\n",
       "      <td>6091.0</td>\n",
       "      <td>50.0</td>\n",
       "      <td>96.0</td>\n",
       "      <td>75.0</td>\n",
       "      <td>266.0</td>\n",
       "      <td>0.0</td>\n",
       "      <td>6144.0</td>\n",
       "      <td>2022-01-01 03:00:00+00:00</td>\n",
       "      <td>2022-01-01</td>\n",
       "    </tr>\n",
       "    <tr>\n",
       "      <th>3</th>\n",
       "      <td>Spain (ES)</td>\n",
       "      <td>528.0</td>\n",
       "      <td>NaN</td>\n",
       "      <td>0.0</td>\n",
       "      <td>0.0</td>\n",
       "      <td>3444.0</td>\n",
       "      <td>868.0</td>\n",
       "      <td>105.0</td>\n",
       "      <td>0.0</td>\n",
       "      <td>0.0</td>\n",
       "      <td>...</td>\n",
       "      <td>0.0</td>\n",
       "      <td>6091.0</td>\n",
       "      <td>51.0</td>\n",
       "      <td>98.0</td>\n",
       "      <td>75.0</td>\n",
       "      <td>260.0</td>\n",
       "      <td>0.0</td>\n",
       "      <td>5943.0</td>\n",
       "      <td>2022-01-01 04:00:00+00:00</td>\n",
       "      <td>2022-01-01</td>\n",
       "    </tr>\n",
       "    <tr>\n",
       "      <th>4</th>\n",
       "      <td>Spain (ES)</td>\n",
       "      <td>533.0</td>\n",
       "      <td>NaN</td>\n",
       "      <td>0.0</td>\n",
       "      <td>0.0</td>\n",
       "      <td>3446.0</td>\n",
       "      <td>850.0</td>\n",
       "      <td>105.0</td>\n",
       "      <td>0.0</td>\n",
       "      <td>0.0</td>\n",
       "      <td>...</td>\n",
       "      <td>0.0</td>\n",
       "      <td>6092.0</td>\n",
       "      <td>51.0</td>\n",
       "      <td>96.0</td>\n",
       "      <td>75.0</td>\n",
       "      <td>266.0</td>\n",
       "      <td>0.0</td>\n",
       "      <td>5836.0</td>\n",
       "      <td>2022-01-01 05:00:00+00:00</td>\n",
       "      <td>2022-01-01</td>\n",
       "    </tr>\n",
       "  </tbody>\n",
       "</table>\n",
       "<p>5 rows × 25 columns</p>\n",
       "</div>"
      ],
      "text/plain": [
       "         Area  Biomass [MW]  Energy storage [MW]  \\\n",
       "0  Spain (ES)         533.0                  NaN   \n",
       "1  Spain (ES)         524.0                  NaN   \n",
       "2  Spain (ES)         532.0                  NaN   \n",
       "3  Spain (ES)         528.0                  NaN   \n",
       "4  Spain (ES)         533.0                  NaN   \n",
       "\n",
       "   Fossil Brown coal/Lignite [MW]  Fossil Coal-derived gas [MW]  \\\n",
       "0                             0.0                           0.0   \n",
       "1                             0.0                           0.0   \n",
       "2                             0.0                           0.0   \n",
       "3                             0.0                           0.0   \n",
       "4                             0.0                           0.0   \n",
       "\n",
       "   Fossil Gas [MW]  Fossil Hard coal [MW]  Fossil Oil [MW]  \\\n",
       "0           3874.0                  847.0            121.0   \n",
       "1           3557.0                  842.0            112.0   \n",
       "2           3590.0                  855.0            105.0   \n",
       "3           3444.0                  868.0            105.0   \n",
       "4           3446.0                  850.0            105.0   \n",
       "\n",
       "   Fossil Oil shale [MW]  Fossil Peat [MW]  ...  Marine [MW]  Nuclear [MW]  \\\n",
       "0                    0.0               0.0  ...          0.0        6091.0   \n",
       "1                    0.0               0.0  ...          0.0        6092.0   \n",
       "2                    0.0               0.0  ...          0.0        6091.0   \n",
       "3                    0.0               0.0  ...          0.0        6091.0   \n",
       "4                    0.0               0.0  ...          0.0        6092.0   \n",
       "\n",
       "   Other [MW]  Other renewable [MW]  Solar [MW]  Waste [MW]  \\\n",
       "0        50.0                  98.0        75.0       268.0   \n",
       "1        50.0                  96.0        75.0       265.0   \n",
       "2        50.0                  96.0        75.0       266.0   \n",
       "3        51.0                  98.0        75.0       260.0   \n",
       "4        51.0                  96.0        75.0       266.0   \n",
       "\n",
       "   Wind Offshore [MW]  Wind Onshore [MW]                      time        date  \n",
       "0                 0.0             6398.0 2022-01-01 01:00:00+00:00  2022-01-01  \n",
       "1                 0.0             6456.0 2022-01-01 02:00:00+00:00  2022-01-01  \n",
       "2                 0.0             6144.0 2022-01-01 03:00:00+00:00  2022-01-01  \n",
       "3                 0.0             5943.0 2022-01-01 04:00:00+00:00  2022-01-01  \n",
       "4                 0.0             5836.0 2022-01-01 05:00:00+00:00  2022-01-01  \n",
       "\n",
       "[5 rows x 25 columns]"
      ]
     },
     "execution_count": 19,
     "metadata": {},
     "output_type": "execute_result"
    }
   ],
   "source": [
    "read_entsoe_df('ES').head()"
   ]
  },
  {
   "cell_type": "code",
   "execution_count": 14,
   "metadata": {},
   "outputs": [
    {
     "name": "stderr",
     "output_type": "stream",
     "text": [
      "/var/folders/qv/t2vwkpks13lc6qj9vrjf5qf80000gn/T/ipykernel_53440/3833550337.py:6: FutureWarning:\n",
      "\n",
      "Downcasting behavior in `replace` is deprecated and will be removed in a future version. To retain the old behavior, explicitly call `result.infer_objects(copy=False)`. To opt-in to the future behavior, set `pd.set_option('future.no_silent_downcasting', True)`\n",
      "\n",
      "/var/folders/qv/t2vwkpks13lc6qj9vrjf5qf80000gn/T/ipykernel_53440/3833550337.py:6: FutureWarning:\n",
      "\n",
      "Downcasting behavior in `replace` is deprecated and will be removed in a future version. To retain the old behavior, explicitly call `result.infer_objects(copy=False)`. To opt-in to the future behavior, set `pd.set_option('future.no_silent_downcasting', True)`\n",
      "\n"
     ]
    }
   ],
   "source": [
    "df = read_entsoe_df('ES')\n",
    "df = df[df['date'] == datetime.date(2023, 4, 30)]"
   ]
  },
  {
   "cell_type": "code",
   "execution_count": 15,
   "metadata": {},
   "outputs": [
    {
     "data": {
      "application/vnd.plotly.v1+json": {
       "config": {
        "plotlyServerURL": "https://plot.ly"
       },
       "data": [
        {
         "coloraxis": "coloraxis",
         "hovertemplate": "x: %{x}<br>y: %{y}<br>color: %{z}<extra></extra>",
         "name": "0",
         "type": "heatmap",
         "x": [],
         "xaxis": "x",
         "y": [
          "Biomass [MW]",
          "Energy storage [MW]",
          "Fossil Brown coal/Lignite [MW]",
          "Fossil Coal-derived gas [MW]",
          "Fossil Gas [MW]",
          "Fossil Hard coal [MW]",
          "Fossil Oil [MW]",
          "Fossil Oil shale [MW]",
          "Fossil Peat [MW]",
          "Geothermal [MW]",
          "Hydro Pumped Storage [MW]",
          "Hydro Pumped Storage - Actual Consumption [MW]",
          "Hydro Run-of-river and poundage [MW]",
          "Hydro Water Reservoir [MW]",
          "Marine [MW]",
          "Nuclear [MW]",
          "Other [MW]",
          "Other renewable [MW]",
          "Solar [MW]",
          "Waste [MW]",
          "Wind Offshore [MW]",
          "Wind Onshore [MW]"
         ],
         "yaxis": "y",
         "z": [
          [],
          [],
          [],
          [],
          [],
          [],
          [],
          [],
          [],
          [],
          [],
          [],
          [],
          [],
          [],
          [],
          [],
          [],
          [],
          [],
          [],
          []
         ]
        }
       ],
       "layout": {
        "coloraxis": {
         "colorscale": [
          [
           0,
           "#0d0887"
          ],
          [
           0.1111111111111111,
           "#46039f"
          ],
          [
           0.2222222222222222,
           "#7201a8"
          ],
          [
           0.3333333333333333,
           "#9c179e"
          ],
          [
           0.4444444444444444,
           "#bd3786"
          ],
          [
           0.5555555555555556,
           "#d8576b"
          ],
          [
           0.6666666666666666,
           "#ed7953"
          ],
          [
           0.7777777777777778,
           "#fb9f3a"
          ],
          [
           0.8888888888888888,
           "#fdca26"
          ],
          [
           1,
           "#f0f921"
          ]
         ]
        },
        "margin": {
         "t": 60
        },
        "template": {
         "data": {
          "bar": [
           {
            "error_x": {
             "color": "#2a3f5f"
            },
            "error_y": {
             "color": "#2a3f5f"
            },
            "marker": {
             "line": {
              "color": "#E5ECF6",
              "width": 0.5
             },
             "pattern": {
              "fillmode": "overlay",
              "size": 10,
              "solidity": 0.2
             }
            },
            "type": "bar"
           }
          ],
          "barpolar": [
           {
            "marker": {
             "line": {
              "color": "#E5ECF6",
              "width": 0.5
             },
             "pattern": {
              "fillmode": "overlay",
              "size": 10,
              "solidity": 0.2
             }
            },
            "type": "barpolar"
           }
          ],
          "carpet": [
           {
            "aaxis": {
             "endlinecolor": "#2a3f5f",
             "gridcolor": "white",
             "linecolor": "white",
             "minorgridcolor": "white",
             "startlinecolor": "#2a3f5f"
            },
            "baxis": {
             "endlinecolor": "#2a3f5f",
             "gridcolor": "white",
             "linecolor": "white",
             "minorgridcolor": "white",
             "startlinecolor": "#2a3f5f"
            },
            "type": "carpet"
           }
          ],
          "choropleth": [
           {
            "colorbar": {
             "outlinewidth": 0,
             "ticks": ""
            },
            "type": "choropleth"
           }
          ],
          "contour": [
           {
            "colorbar": {
             "outlinewidth": 0,
             "ticks": ""
            },
            "colorscale": [
             [
              0,
              "#0d0887"
             ],
             [
              0.1111111111111111,
              "#46039f"
             ],
             [
              0.2222222222222222,
              "#7201a8"
             ],
             [
              0.3333333333333333,
              "#9c179e"
             ],
             [
              0.4444444444444444,
              "#bd3786"
             ],
             [
              0.5555555555555556,
              "#d8576b"
             ],
             [
              0.6666666666666666,
              "#ed7953"
             ],
             [
              0.7777777777777778,
              "#fb9f3a"
             ],
             [
              0.8888888888888888,
              "#fdca26"
             ],
             [
              1,
              "#f0f921"
             ]
            ],
            "type": "contour"
           }
          ],
          "contourcarpet": [
           {
            "colorbar": {
             "outlinewidth": 0,
             "ticks": ""
            },
            "type": "contourcarpet"
           }
          ],
          "heatmap": [
           {
            "colorbar": {
             "outlinewidth": 0,
             "ticks": ""
            },
            "colorscale": [
             [
              0,
              "#0d0887"
             ],
             [
              0.1111111111111111,
              "#46039f"
             ],
             [
              0.2222222222222222,
              "#7201a8"
             ],
             [
              0.3333333333333333,
              "#9c179e"
             ],
             [
              0.4444444444444444,
              "#bd3786"
             ],
             [
              0.5555555555555556,
              "#d8576b"
             ],
             [
              0.6666666666666666,
              "#ed7953"
             ],
             [
              0.7777777777777778,
              "#fb9f3a"
             ],
             [
              0.8888888888888888,
              "#fdca26"
             ],
             [
              1,
              "#f0f921"
             ]
            ],
            "type": "heatmap"
           }
          ],
          "heatmapgl": [
           {
            "colorbar": {
             "outlinewidth": 0,
             "ticks": ""
            },
            "colorscale": [
             [
              0,
              "#0d0887"
             ],
             [
              0.1111111111111111,
              "#46039f"
             ],
             [
              0.2222222222222222,
              "#7201a8"
             ],
             [
              0.3333333333333333,
              "#9c179e"
             ],
             [
              0.4444444444444444,
              "#bd3786"
             ],
             [
              0.5555555555555556,
              "#d8576b"
             ],
             [
              0.6666666666666666,
              "#ed7953"
             ],
             [
              0.7777777777777778,
              "#fb9f3a"
             ],
             [
              0.8888888888888888,
              "#fdca26"
             ],
             [
              1,
              "#f0f921"
             ]
            ],
            "type": "heatmapgl"
           }
          ],
          "histogram": [
           {
            "marker": {
             "pattern": {
              "fillmode": "overlay",
              "size": 10,
              "solidity": 0.2
             }
            },
            "type": "histogram"
           }
          ],
          "histogram2d": [
           {
            "colorbar": {
             "outlinewidth": 0,
             "ticks": ""
            },
            "colorscale": [
             [
              0,
              "#0d0887"
             ],
             [
              0.1111111111111111,
              "#46039f"
             ],
             [
              0.2222222222222222,
              "#7201a8"
             ],
             [
              0.3333333333333333,
              "#9c179e"
             ],
             [
              0.4444444444444444,
              "#bd3786"
             ],
             [
              0.5555555555555556,
              "#d8576b"
             ],
             [
              0.6666666666666666,
              "#ed7953"
             ],
             [
              0.7777777777777778,
              "#fb9f3a"
             ],
             [
              0.8888888888888888,
              "#fdca26"
             ],
             [
              1,
              "#f0f921"
             ]
            ],
            "type": "histogram2d"
           }
          ],
          "histogram2dcontour": [
           {
            "colorbar": {
             "outlinewidth": 0,
             "ticks": ""
            },
            "colorscale": [
             [
              0,
              "#0d0887"
             ],
             [
              0.1111111111111111,
              "#46039f"
             ],
             [
              0.2222222222222222,
              "#7201a8"
             ],
             [
              0.3333333333333333,
              "#9c179e"
             ],
             [
              0.4444444444444444,
              "#bd3786"
             ],
             [
              0.5555555555555556,
              "#d8576b"
             ],
             [
              0.6666666666666666,
              "#ed7953"
             ],
             [
              0.7777777777777778,
              "#fb9f3a"
             ],
             [
              0.8888888888888888,
              "#fdca26"
             ],
             [
              1,
              "#f0f921"
             ]
            ],
            "type": "histogram2dcontour"
           }
          ],
          "mesh3d": [
           {
            "colorbar": {
             "outlinewidth": 0,
             "ticks": ""
            },
            "type": "mesh3d"
           }
          ],
          "parcoords": [
           {
            "line": {
             "colorbar": {
              "outlinewidth": 0,
              "ticks": ""
             }
            },
            "type": "parcoords"
           }
          ],
          "pie": [
           {
            "automargin": true,
            "type": "pie"
           }
          ],
          "scatter": [
           {
            "fillpattern": {
             "fillmode": "overlay",
             "size": 10,
             "solidity": 0.2
            },
            "type": "scatter"
           }
          ],
          "scatter3d": [
           {
            "line": {
             "colorbar": {
              "outlinewidth": 0,
              "ticks": ""
             }
            },
            "marker": {
             "colorbar": {
              "outlinewidth": 0,
              "ticks": ""
             }
            },
            "type": "scatter3d"
           }
          ],
          "scattercarpet": [
           {
            "marker": {
             "colorbar": {
              "outlinewidth": 0,
              "ticks": ""
             }
            },
            "type": "scattercarpet"
           }
          ],
          "scattergeo": [
           {
            "marker": {
             "colorbar": {
              "outlinewidth": 0,
              "ticks": ""
             }
            },
            "type": "scattergeo"
           }
          ],
          "scattergl": [
           {
            "marker": {
             "colorbar": {
              "outlinewidth": 0,
              "ticks": ""
             }
            },
            "type": "scattergl"
           }
          ],
          "scattermapbox": [
           {
            "marker": {
             "colorbar": {
              "outlinewidth": 0,
              "ticks": ""
             }
            },
            "type": "scattermapbox"
           }
          ],
          "scatterpolar": [
           {
            "marker": {
             "colorbar": {
              "outlinewidth": 0,
              "ticks": ""
             }
            },
            "type": "scatterpolar"
           }
          ],
          "scatterpolargl": [
           {
            "marker": {
             "colorbar": {
              "outlinewidth": 0,
              "ticks": ""
             }
            },
            "type": "scatterpolargl"
           }
          ],
          "scatterternary": [
           {
            "marker": {
             "colorbar": {
              "outlinewidth": 0,
              "ticks": ""
             }
            },
            "type": "scatterternary"
           }
          ],
          "surface": [
           {
            "colorbar": {
             "outlinewidth": 0,
             "ticks": ""
            },
            "colorscale": [
             [
              0,
              "#0d0887"
             ],
             [
              0.1111111111111111,
              "#46039f"
             ],
             [
              0.2222222222222222,
              "#7201a8"
             ],
             [
              0.3333333333333333,
              "#9c179e"
             ],
             [
              0.4444444444444444,
              "#bd3786"
             ],
             [
              0.5555555555555556,
              "#d8576b"
             ],
             [
              0.6666666666666666,
              "#ed7953"
             ],
             [
              0.7777777777777778,
              "#fb9f3a"
             ],
             [
              0.8888888888888888,
              "#fdca26"
             ],
             [
              1,
              "#f0f921"
             ]
            ],
            "type": "surface"
           }
          ],
          "table": [
           {
            "cells": {
             "fill": {
              "color": "#EBF0F8"
             },
             "line": {
              "color": "white"
             }
            },
            "header": {
             "fill": {
              "color": "#C8D4E3"
             },
             "line": {
              "color": "white"
             }
            },
            "type": "table"
           }
          ]
         },
         "layout": {
          "annotationdefaults": {
           "arrowcolor": "#2a3f5f",
           "arrowhead": 0,
           "arrowwidth": 1
          },
          "autotypenumbers": "strict",
          "coloraxis": {
           "colorbar": {
            "outlinewidth": 0,
            "ticks": ""
           }
          },
          "colorscale": {
           "diverging": [
            [
             0,
             "#8e0152"
            ],
            [
             0.1,
             "#c51b7d"
            ],
            [
             0.2,
             "#de77ae"
            ],
            [
             0.3,
             "#f1b6da"
            ],
            [
             0.4,
             "#fde0ef"
            ],
            [
             0.5,
             "#f7f7f7"
            ],
            [
             0.6,
             "#e6f5d0"
            ],
            [
             0.7,
             "#b8e186"
            ],
            [
             0.8,
             "#7fbc41"
            ],
            [
             0.9,
             "#4d9221"
            ],
            [
             1,
             "#276419"
            ]
           ],
           "sequential": [
            [
             0,
             "#0d0887"
            ],
            [
             0.1111111111111111,
             "#46039f"
            ],
            [
             0.2222222222222222,
             "#7201a8"
            ],
            [
             0.3333333333333333,
             "#9c179e"
            ],
            [
             0.4444444444444444,
             "#bd3786"
            ],
            [
             0.5555555555555556,
             "#d8576b"
            ],
            [
             0.6666666666666666,
             "#ed7953"
            ],
            [
             0.7777777777777778,
             "#fb9f3a"
            ],
            [
             0.8888888888888888,
             "#fdca26"
            ],
            [
             1,
             "#f0f921"
            ]
           ],
           "sequentialminus": [
            [
             0,
             "#0d0887"
            ],
            [
             0.1111111111111111,
             "#46039f"
            ],
            [
             0.2222222222222222,
             "#7201a8"
            ],
            [
             0.3333333333333333,
             "#9c179e"
            ],
            [
             0.4444444444444444,
             "#bd3786"
            ],
            [
             0.5555555555555556,
             "#d8576b"
            ],
            [
             0.6666666666666666,
             "#ed7953"
            ],
            [
             0.7777777777777778,
             "#fb9f3a"
            ],
            [
             0.8888888888888888,
             "#fdca26"
            ],
            [
             1,
             "#f0f921"
            ]
           ]
          },
          "colorway": [
           "#636efa",
           "#EF553B",
           "#00cc96",
           "#ab63fa",
           "#FFA15A",
           "#19d3f3",
           "#FF6692",
           "#B6E880",
           "#FF97FF",
           "#FECB52"
          ],
          "font": {
           "color": "#2a3f5f"
          },
          "geo": {
           "bgcolor": "white",
           "lakecolor": "white",
           "landcolor": "#E5ECF6",
           "showlakes": true,
           "showland": true,
           "subunitcolor": "white"
          },
          "hoverlabel": {
           "align": "left"
          },
          "hovermode": "closest",
          "mapbox": {
           "style": "light"
          },
          "paper_bgcolor": "white",
          "plot_bgcolor": "#E5ECF6",
          "polar": {
           "angularaxis": {
            "gridcolor": "white",
            "linecolor": "white",
            "ticks": ""
           },
           "bgcolor": "#E5ECF6",
           "radialaxis": {
            "gridcolor": "white",
            "linecolor": "white",
            "ticks": ""
           }
          },
          "scene": {
           "xaxis": {
            "backgroundcolor": "#E5ECF6",
            "gridcolor": "white",
            "gridwidth": 2,
            "linecolor": "white",
            "showbackground": true,
            "ticks": "",
            "zerolinecolor": "white"
           },
           "yaxis": {
            "backgroundcolor": "#E5ECF6",
            "gridcolor": "white",
            "gridwidth": 2,
            "linecolor": "white",
            "showbackground": true,
            "ticks": "",
            "zerolinecolor": "white"
           },
           "zaxis": {
            "backgroundcolor": "#E5ECF6",
            "gridcolor": "white",
            "gridwidth": 2,
            "linecolor": "white",
            "showbackground": true,
            "ticks": "",
            "zerolinecolor": "white"
           }
          },
          "shapedefaults": {
           "line": {
            "color": "#2a3f5f"
           }
          },
          "ternary": {
           "aaxis": {
            "gridcolor": "white",
            "linecolor": "white",
            "ticks": ""
           },
           "baxis": {
            "gridcolor": "white",
            "linecolor": "white",
            "ticks": ""
           },
           "bgcolor": "#E5ECF6",
           "caxis": {
            "gridcolor": "white",
            "linecolor": "white",
            "ticks": ""
           }
          },
          "title": {
           "x": 0.05
          },
          "xaxis": {
           "automargin": true,
           "gridcolor": "white",
           "linecolor": "white",
           "ticks": "",
           "title": {
            "standoff": 15
           },
           "zerolinecolor": "white",
           "zerolinewidth": 2
          },
          "yaxis": {
           "automargin": true,
           "gridcolor": "white",
           "linecolor": "white",
           "ticks": "",
           "title": {
            "standoff": 15
           },
           "zerolinecolor": "white",
           "zerolinewidth": 2
          }
         }
        },
        "xaxis": {
         "anchor": "y",
         "constrain": "domain",
         "domain": [
          0,
          1
         ],
         "scaleanchor": "y"
        },
        "yaxis": {
         "anchor": "x",
         "autorange": "reversed",
         "constrain": "domain",
         "domain": [
          0,
          1
         ]
        }
       }
      }
     },
     "metadata": {},
     "output_type": "display_data"
    }
   ],
   "source": [
    "fig = px.imshow(img= df[[x for x in df.columns if \"MW\" in x ]].T, \n",
    "                x = df['time'],\n",
    "                y = [x for x in df.columns if \"MW\" in x ])\n",
    "fig.show()"
   ]
  }
 ],
 "metadata": {
  "kernelspec": {
   "display_name": "base",
   "language": "python",
   "name": "python3"
  },
  "language_info": {
   "codemirror_mode": {
    "name": "ipython",
    "version": 3
   },
   "file_extension": ".py",
   "mimetype": "text/x-python",
   "name": "python",
   "nbconvert_exporter": "python",
   "pygments_lexer": "ipython3",
   "version": "3.11.8"
  }
 },
 "nbformat": 4,
 "nbformat_minor": 2
}
